{
 "cells": [
  {
   "cell_type": "markdown",
   "metadata": {},
   "source": [
    "# 2 Portfolio consruction interactively"
   ]
  },
  {
   "cell_type": "markdown",
   "metadata": {},
   "source": [
    "##### Goal: User can change parameters in a box below. Then observe the performance of the stock portfolio. The strategy is 'healthy reversal' which aims to pick stocks experiencing price decline, but that are healthy otherwise. Parameters that can be changed: upper quantile of previous returns, minimum EBIT margin, and minimum revenue growth.  <br>\n",
    "Data - in this notebook is downloaded from Dropbox. The code for obtaining data is run in notebook 'Plot1_featured_predictive_model' "
   ]
  },
  {
   "cell_type": "markdown",
   "metadata": {},
   "source": [
    " ++++++++++++++++++++++++++++++++++++++++++++ <br>\n",
    " By: Yuriy Podvysotskiy <br>\n",
    " Date: November 4, 2019 <br>\n",
    " ++++++++++++++++++++++++++++++++++++++++++++"
   ]
  },
  {
   "cell_type": "code",
   "execution_count": 52,
   "metadata": {},
   "outputs": [],
   "source": [
    "# Import packages:\n",
    "\n",
    "import numpy as np\n",
    "import pandas as pd\n",
    "import matplotlib.pyplot as plt\n",
    "%matplotlib inline\n"
   ]
  },
  {
   "cell_type": "code",
   "execution_count": 53,
   "metadata": {},
   "outputs": [],
   "source": [
    "# Get the collected data:\n",
    "id1 = \"https://www.dropbox.com/s/x0tzza87nrie9rr/SP100_panel.csv?dl=1\"\n",
    "id2 = \"https://www.dropbox.com/s/nmyyrs7yehh7gdo/SP100.csv?dl=1\"\n",
    "\n",
    "df_panel = pd.read_csv(id1)\n",
    "df_mkt = pd.read_csv(id2)\n"
   ]
  },
  {
   "cell_type": "code",
   "execution_count": 54,
   "metadata": {},
   "outputs": [],
   "source": [
    "# Function for making analysis (run it)\n",
    "def backtest_strategy(df_panel, df_mkt, ret_quant, low_ebitm, low_revg):\n",
    "    df_panel['ret_bottom'] = 0\n",
    "    df_panel['return'] = df_panel['return'].fillna(0)\n",
    "    \n",
    "    quantiles = df_panel.groupby(['date'])['return'].quantile(ret_quant)\n",
    "    quantiles = pd.DataFrame(quantiles)\n",
    "    quantiles.columns = ['low_quantile']\n",
    "    \n",
    "    quantiles['date'] = quantiles.index\n",
    "    quantiles = quantiles.reset_index(drop = True)\n",
    "    \n",
    "    df_panel = df_panel.merge(quantiles, how = 'left', on = ['date'])\n",
    "    df_panel['low_quantile'].describe()\n",
    "    \n",
    "    df_panel.loc[df_panel['return'] <= df_panel['low_quantile'],'ret_bottom'] = 1\n",
    "    \n",
    "    df_panel['perf_well'] = 0\n",
    "    df_panel.loc[(df_panel['ebitm'] > low_ebitm) & (df_panel['revg'] > low_revg), 'perf_well'] = 1\n",
    "    \n",
    "    df_panel['chosen'] = df_panel['ret_bottom'] * df_panel['perf_well']\n",
    "    df_panel[['ret_bottom', 'perf_well', 'chosen']].describe()\n",
    "    \n",
    "    df_panel = df_panel.sort_values(by = ['ticker', 'date'])\n",
    "    df_panel = df_panel.reset_index(drop = True)\n",
    "    \n",
    "    df_panel['chosen1'] = df_panel.groupby(['ticker'])['chosen'].shift(1)\n",
    "    \n",
    "    \n",
    "    # 2) ******************** test strategy *************************************\n",
    "    ## 2.1) pick all stocks that correspond to the rule\n",
    "    n_sums = df_panel.groupby(['date'])['chosen1'].sum()\n",
    "    n_sums = pd.DataFrame(n_sums)\n",
    "    n_sums.columns = ['n_sum']\n",
    "    \n",
    "    n_sums['date'] = n_sums.index\n",
    "    n_sums = n_sums.reset_index(drop = True)\n",
    "    \n",
    "    df_panel = df_panel.merge(n_sums, how = 'left', on = ['date'])\n",
    "  \n",
    "    df_panel['portf_ret'] = df_panel['return'] * df_panel['chosen1'] / df_panel['n_sum']\n",
    "    df_panel['portf_ret'] = df_panel['portf_ret'].fillna(0)\n",
    "    \n",
    "    df_panel = df_panel[['date', 'portf_ret']]\n",
    "    df_panel = df_panel.dropna()\n",
    "    \n",
    "    df_portf = df_panel.groupby(['date']).sum()\n",
    "    df_portf['date'] = df_portf.index\n",
    "    df_portf = df_portf.reset_index(drop = True)\n",
    "    df_portf = df_portf.merge(df_mkt, on = ['date'])\n",
    "    df_portf = df_portf.fillna(method = 'ffill')\n",
    "    df_portf = df_portf.sort_values(by = ['date'])\n",
    "    df_portf = df_portf.reset_index(drop = True)\n",
    "    \n",
    "    df_portf['portf_cumret'] = df_portf['portf_ret'].cumsum()\n",
    "    df_portf['mkt_cumret'] = df_portf['mkt_ret'].cumsum()\n",
    "    return(df_portf)\n"
   ]
  },
  {
   "cell_type": "code",
   "execution_count": 64,
   "metadata": {},
   "outputs": [
    {
     "name": "stdout",
     "output_type": "stream",
     "text": [
      "Comment: \n",
      "\n",
      " The user can change the three parameters above, \n",
      "  and observe the change in the dynamics of the portfolio peformance versus the relevant market index. \n",
      " Also, below is the quantitative evaluation based on the key investment performance metrics (Sharpe, Alpha, and Beta).\n"
     ]
    },
    {
     "data": {
      "text/plain": [
       "<matplotlib.legend.Legend at 0x291e0400e48>"
      ]
     },
     "execution_count": 64,
     "metadata": {},
     "output_type": "execute_result"
    },
    {
     "data": {
      "image/png": "[encoded data removed]",
      "text/plain": [
       "<Figure size 432x288 with 1 Axes>"
      ]
     },
     "metadata": {
      "needs_background": "light"
     },
     "output_type": "display_data"
    }
   ],
   "source": [
    "# User parameters (please change!):\n",
    "ret_quant0 = 0.25  # pick stocks with returns below given quantile (for reversion strategy)\n",
    "low_ebitm0 = 0.1   # pick stocks with ebit margin above given threshold\n",
    "low_revg0 = 0.05   # pick stocks with revenue growth above certain threshold\n",
    "\n",
    "# ----------------------------------------------------------------------\n",
    "# Run the portfolio formation:\n",
    "df_portf = backtest_strategy(df_panel, df_mkt, \n",
    "                             ret_quant = ret_quant0, low_ebitm = low_ebitm0, low_revg = low_revg0)\n",
    "\n",
    "print(\"Comment: \\n\\n\", \"The user can change the three parameters above, \\n\", \n",
    "      \" and observe the change in the dynamics of the portfolio peformance versus the relevant market index. \\n\", \n",
    "     \"Also, below is the quantitative evaluation based on the key investment performance metrics (Sharpe, Alpha, and Beta).\")\n",
    "\n",
    "# And see the portfolio performance vs. the parket:\n",
    "ax = df_portf.plot(x = \"date\", y = ['portf_cumret', 'mkt_cumret'])\n",
    "ax.set_ylabel(\"Cumulative return\")\n",
    "ax.set_xlabel(\"\")\n",
    "ax.legend([\"Portfolio\", \"S&P 100\"])"
   ]
  },
  {
   "cell_type": "code",
   "execution_count": 63,
   "metadata": {},
   "outputs": [
    {
     "name": "stdout",
     "output_type": "stream",
     "text": [
      "Comment: \n",
      "\n",
      " The constructed portoflio has higher annualized return, but also higher risk. \n",
      " Its risk-adjusted return (Alpha) is positive 10.1% on annualized basis. \n",
      " Sharpe ratio is worse than that of the market. \n",
      "\n",
      " BUT the goal here is to design user-interaction system. Which can then be used for constructing superior portfolios.\n"
     ]
    },
    {
     "data": {
      "text/html": [
       "<div>\n",
       "<style scoped>\n",
       "    .dataframe tbody tr th:only-of-type {\n",
       "        vertical-align: middle;\n",
       "    }\n",
       "\n",
       "    .dataframe tbody tr th {\n",
       "        vertical-align: top;\n",
       "    }\n",
       "\n",
       "    .dataframe thead th {\n",
       "        text-align: right;\n",
       "    }\n",
       "</style>\n",
       "<table border=\"1\" class=\"dataframe\">\n",
       "  <thead>\n",
       "    <tr style=\"text-align: right;\">\n",
       "      <th></th>\n",
       "      <th>Portfolio</th>\n",
       "      <th>Market</th>\n",
       "    </tr>\n",
       "  </thead>\n",
       "  <tbody>\n",
       "    <tr>\n",
       "      <td>return</td>\n",
       "      <td>0.2415</td>\n",
       "      <td>0.1092</td>\n",
       "    </tr>\n",
       "    <tr>\n",
       "      <td>st dev</td>\n",
       "      <td>0.3200</td>\n",
       "      <td>0.1190</td>\n",
       "    </tr>\n",
       "    <tr>\n",
       "      <td>sharpe</td>\n",
       "      <td>0.6923</td>\n",
       "      <td>0.7499</td>\n",
       "    </tr>\n",
       "    <tr>\n",
       "      <td>alpha</td>\n",
       "      <td>0.1010</td>\n",
       "      <td>0.0000</td>\n",
       "    </tr>\n",
       "    <tr>\n",
       "      <td>beta</td>\n",
       "      <td>1.2862</td>\n",
       "      <td>1.0000</td>\n",
       "    </tr>\n",
       "  </tbody>\n",
       "</table>\n",
       "</div>"
      ],
      "text/plain": [
       "       Portfolio  Market\n",
       "return    0.2415  0.1092\n",
       "st dev    0.3200  0.1190\n",
       "sharpe    0.6923  0.7499\n",
       "alpha     0.1010  0.0000\n",
       "beta      1.2862  1.0000"
      ]
     },
     "execution_count": 63,
     "metadata": {},
     "output_type": "execute_result"
    }
   ],
   "source": [
    "# Evaluation of portfolio versus the market:\n",
    "from sklearn.linear_model import LinearRegression\n",
    "\n",
    "## Indicators:  Ann_ret, Ann_sd, Sharpe, Alpha, Beta\n",
    "## For:         Portfolio, Market \n",
    "\n",
    "portf_Y = df_portf['portf_ret']\n",
    "portf_X = df_portf['mkt_ret']\n",
    "\n",
    "reg_p = LinearRegression().fit(portf_X.values.reshape(-1, 1), portf_Y.values.reshape(-1, 1))\n",
    "\n",
    "df_perf1 = pd.DataFrame( columns = ['Portfolio', 'Market'], \n",
    "                       index = ['return', 'st dev', 'sharpe', 'alpha', 'beta'])\n",
    "\n",
    "df_perf1.loc['return', 'Portfolio'] = \"{:.4f}\".format(df_portf['portf_ret'].mean()*51)\n",
    "df_perf1.loc['st dev', 'Portfolio'] = \"{:.4f}\".format(df_portf['portf_ret'].std()*(51**0.5))\n",
    "df_perf1.loc['sharpe', 'Portfolio'] = \"{:.4f}\".format((df_portf['portf_ret'].mean()*51 - .02)/(df_portf['portf_ret'].std()*(51**0.5)))\n",
    "df_perf1.loc['alpha', 'Portfolio'] = \"{:.4f}\".format(reg_p.intercept_[0]*51)\n",
    "df_perf1.loc['beta', 'Portfolio'] = \"{:.4f}\".format(reg_p.coef_[0][0])\n",
    "\n",
    "df_perf1.loc['return', 'Market'] = \"{:.4f}\".format(df_portf['mkt_ret'].mean()*51)\n",
    "df_perf1.loc['st dev', 'Market'] = \"{:.4f}\".format(df_portf['mkt_ret'].std()*(51**0.5))\n",
    "df_perf1.loc['sharpe', 'Market'] = \"{:.4f}\".format((df_portf['mkt_ret'].mean()*51 - .02)/ (df_portf['mkt_ret'].std()*(51**0.5)))\n",
    "df_perf1.loc['alpha', 'Market'] = \"{:.4f}\".format(0)\n",
    "df_perf1.loc['beta', 'Market'] = \"{:.4f}\".format(1)\n",
    "\n",
    "print(\"Comment: \\n\\n\", \"The constructed portoflio has higher annualized return, but also higher risk. \\n\",\n",
    "      \"Its risk-adjusted return (Alpha) is positive 10.1% on annualized basis. \\n\", \n",
    "     \"Sharpe ratio is worse than that of the market. \\n\\n\",\n",
    "     \"BUT\",\"the goal here is to design user-interaction system. Which can then be used for constructing superior portfolios.\")\n",
    "\n",
    "df_perf1"
   ]
  },
  {
   "cell_type": "code",
   "execution_count": null,
   "metadata": {},
   "outputs": [],
   "source": [
    "\n",
    "\n"
   ]
  }
 ],
 "metadata": {
  "kernelspec": {
   "display_name": "Python 3",
   "language": "python",
   "name": "python3"
  },
  "language_info": {
   "codemirror_mode": {
    "name": "ipython",
    "version": 3
   },
   "file_extension": ".py",
   "mimetype": "text/x-python",
   "name": "python",
   "nbconvert_exporter": "python",
   "pygments_lexer": "ipython3",
   "version": "3.7.3"
  }
 },
 "nbformat": 4,
 "nbformat_minor": 2
}
